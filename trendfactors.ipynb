{
 "cells": [
  {
   "cell_type": "code",
   "execution_count": 1,
   "id": "cf1512a5-cb6e-4cf5-b5c7-5a331a4a20c0",
   "metadata": {},
   "outputs": [],
   "source": [
    "import pandas as pd\n",
    "from pathlib import Path\n"
   ]
  },
  {
   "cell_type": "code",
   "execution_count": 6,
   "id": "6058ba46-d392-43b1-a78a-233c7580ee50",
   "metadata": {},
   "outputs": [],
   "source": [
    "annualfoodcpi = Path(\"Outside Resources/annualfoodcpi.csv\")\n",
    "snap = Path(\"Outside Resources/US SNAP Participants – US Census.csv\")\n",
    "unemployed = Path(\"Outside Resources/US Unemployment Percentages (BLS).csv\")"
   ]
  },
  {
   "cell_type": "code",
   "execution_count": 7,
   "id": "a815622f-d7d9-47b6-b5e7-1ecb24645c67",
   "metadata": {},
   "outputs": [],
   "source": [
    "annualfoodcpi_df = pd.read_csv(annualfoodcpi)\n",
    "snap_df = pd.read_csv(snap)\n",
    "unemployed_df = pd.read_csv(unemployed)"
   ]
  },
  {
   "cell_type": "code",
   "execution_count": null,
   "id": "f8c9dc3b-6fdc-45e5-8fbf-363ab630f53b",
   "metadata": {},
   "outputs": [],
   "source": [
    "food_trends_complete = pd.merge(annualfoodcpi, snap, how=\"left\", on=\"year\")\n",
    "trends_complete.head()"
   ]
  }
 ],
 "metadata": {
  "kernelspec": {
   "display_name": "Python 3 (ipykernel)",
   "language": "python",
   "name": "python3"
  },
  "language_info": {
   "codemirror_mode": {
    "name": "ipython",
    "version": 3
   },
   "file_extension": ".py",
   "mimetype": "text/x-python",
   "name": "python",
   "nbconvert_exporter": "python",
   "pygments_lexer": "ipython3",
   "version": "3.10.16"
  }
 },
 "nbformat": 4,
 "nbformat_minor": 5
}
