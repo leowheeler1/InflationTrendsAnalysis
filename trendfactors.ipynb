{
 "cells": [
  {
   "cell_type": "code",
   "execution_count": 2,
   "id": "cf1512a5-cb6e-4cf5-b5c7-5a331a4a20c0",
   "metadata": {},
   "outputs": [],
   "source": [
    "import pandas as pd\n",
    "from pathlib import Path\n"
   ]
  },
  {
   "cell_type": "code",
   "execution_count": 4,
   "id": "6058ba46-d392-43b1-a78a-233c7580ee50",
   "metadata": {},
   "outputs": [
    {
     "ename": "SyntaxError",
     "evalue": "unterminated string literal (detected at line 3) (635648678.py, line 3)",
     "output_type": "error",
     "traceback": [
      "\u001b[0;36m  Cell \u001b[0;32mIn[4], line 3\u001b[0;36m\u001b[0m\n\u001b[0;31m    unemployed = (\"Outside Resources/US Unemployment Percentages (BLS).csv)\u001b[0m\n\u001b[0m                  ^\u001b[0m\n\u001b[0;31mSyntaxError\u001b[0m\u001b[0;31m:\u001b[0m unterminated string literal (detected at line 3)\n"
     ]
    }
   ],
   "source": [
    "cpiavg = Path(\"Outside Resources/cpiavgperyear.csv\")\n",
    "snap = Path(\"Outside Resources/US SNAP Participants – US Census.csv\")\n",
    "unemployed = (\"Outside Resources/US Unemployment Percentages (BLS).csv)"
   ]
  },
  {
   "cell_type": "code",
   "execution_count": null,
   "id": "a815622f-d7d9-47b6-b5e7-1ecb24645c67",
   "metadata": {},
   "outputs": [],
   "source": [
    "cpiavg_df = pd.read_csv(cpiavg)\n",
    "snap_df = pd.read_csv(snap)\n",
    "unemployed_df = pd.read_csv()"
   ]
  },
  {
   "cell_type": "code",
   "execution_count": null,
   "id": "f8c9dc3b-6fdc-45e5-8fbf-363ab630f53b",
   "metadata": {},
   "outputs": [],
   "source": [
    "school_data_complete = pd.merge(student_data, school_data, how=\"left\", on=\"school_name\")\n",
    "school_data_complete.head()"
   ]
  }
 ],
 "metadata": {
  "kernelspec": {
   "display_name": "Python 3 (ipykernel)",
   "language": "python",
   "name": "python3"
  },
  "language_info": {
   "codemirror_mode": {
    "name": "ipython",
    "version": 3
   },
   "file_extension": ".py",
   "mimetype": "text/x-python",
   "name": "python",
   "nbconvert_exporter": "python",
   "pygments_lexer": "ipython3",
   "version": "3.10.16"
  }
 },
 "nbformat": 4,
 "nbformat_minor": 5
}
