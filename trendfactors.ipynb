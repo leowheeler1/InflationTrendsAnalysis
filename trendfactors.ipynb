{
 "cells": [
  {
   "cell_type": "code",
   "execution_count": 2,
   "id": "cf1512a5-cb6e-4cf5-b5c7-5a331a4a20c0",
   "metadata": {},
   "outputs": [],
   "source": [
    "import pandas as pd\n",
    "from pathlib import Path\n"
   ]
  },
  {
   "cell_type": "code",
   "execution_count": 3,
   "id": "6058ba46-d392-43b1-a78a-233c7580ee50",
   "metadata": {},
   "outputs": [],
   "source": [
    "annualfoodcpi = Path(\"Outside Resources/annualfoodcpi.csv\")\n",
    "snap = Path(\"Outside Resources/US SNAP Participants – US Census.csv\")\n",
    "unemployed = Path(\"Outside Resources/US Unemployment Percentages (BLS).csv\")"
   ]
  },
  {
   "cell_type": "code",
   "execution_count": 4,
   "id": "a815622f-d7d9-47b6-b5e7-1ecb24645c67",
   "metadata": {},
   "outputs": [],
   "source": [
    "annualfoodcpi_df = pd.read_csv(annualfoodcpi)\n",
    "snap_df = pd.read_csv(snap)\n",
    "unemployed_df = pd.read_csv(unemployed)"
   ]
  },
  {
   "cell_type": "code",
   "execution_count": 19,
   "id": "f8c9dc3b-6fdc-45e5-8fbf-363ab630f53b",
   "metadata": {},
   "outputs": [
    {
     "data": {
      "text/html": [
       "<div>\n",
       "<style scoped>\n",
       "    .dataframe tbody tr th:only-of-type {\n",
       "        vertical-align: middle;\n",
       "    }\n",
       "\n",
       "    .dataframe tbody tr th {\n",
       "        vertical-align: top;\n",
       "    }\n",
       "\n",
       "    .dataframe thead th {\n",
       "        text-align: right;\n",
       "    }\n",
       "</style>\n",
       "<table border=\"1\" class=\"dataframe\">\n",
       "  <thead>\n",
       "    <tr style=\"text-align: right;\">\n",
       "      <th></th>\n",
       "      <th>Year</th>\n",
       "      <th>Meats, Poultry, Fish, and Eggs</th>\n",
       "      <th>Fruits and Vegetables</th>\n",
       "      <th>Dairy and Related Product</th>\n",
       "      <th>Employment %</th>\n",
       "    </tr>\n",
       "  </thead>\n",
       "  <tbody>\n",
       "    <tr>\n",
       "      <th>0</th>\n",
       "      <td>2020</td>\n",
       "      <td>265.173</td>\n",
       "      <td>304.944</td>\n",
       "      <td>228.322</td>\n",
       "      <td>56.8</td>\n",
       "    </tr>\n",
       "    <tr>\n",
       "      <th>1</th>\n",
       "      <td>2021</td>\n",
       "      <td>282.784</td>\n",
       "      <td>314.813</td>\n",
       "      <td>231.422</td>\n",
       "      <td>58.4</td>\n",
       "    </tr>\n",
       "    <tr>\n",
       "      <th>2</th>\n",
       "      <td>2022</td>\n",
       "      <td>313.667</td>\n",
       "      <td>341.668</td>\n",
       "      <td>259.184</td>\n",
       "      <td>60.0</td>\n",
       "    </tr>\n",
       "    <tr>\n",
       "      <th>3</th>\n",
       "      <td>2023</td>\n",
       "      <td>319.297</td>\n",
       "      <td>350.180</td>\n",
       "      <td>269.528</td>\n",
       "      <td>60.3</td>\n",
       "    </tr>\n",
       "    <tr>\n",
       "      <th>4</th>\n",
       "      <td>2024</td>\n",
       "      <td>326.254</td>\n",
       "      <td>352.801</td>\n",
       "      <td>268.876</td>\n",
       "      <td>60.1</td>\n",
       "    </tr>\n",
       "  </tbody>\n",
       "</table>\n",
       "</div>"
      ],
      "text/plain": [
       "   Year  Meats, Poultry, Fish, and Eggs  Fruits and Vegetables  \\\n",
       "0  2020                         265.173                304.944   \n",
       "1  2021                         282.784                314.813   \n",
       "2  2022                         313.667                341.668   \n",
       "3  2023                         319.297                350.180   \n",
       "4  2024                         326.254                352.801   \n",
       "\n",
       "   Dairy and Related Product  Employment %  \n",
       "0                    228.322          56.8  \n",
       "1                    231.422          58.4  \n",
       "2                    259.184          60.0  \n",
       "3                    269.528          60.3  \n",
       "4                    268.876          60.1  "
      ]
     },
     "execution_count": 19,
     "metadata": {},
     "output_type": "execute_result"
    }
   ],
   "source": [
    "trends_df = pd.merge(annualfoodcpi_df, unemployed_df, how=\"left\", on=\"Year\")\n",
    "trends_df.head()\n",
    "trends_df.dropna(axis=1)"
   ]
  },
  {
   "cell_type": "code",
   "execution_count": null,
   "id": "e381518a-e88b-448e-a251-6d3c7bb061cf",
   "metadata": {},
   "outputs": [],
   "source": []
  },
  {
   "cell_type": "code",
   "execution_count": null,
   "id": "0bb2076f-a6da-4c31-b28e-1b4c819355c4",
   "metadata": {},
   "outputs": [],
   "source": []
  }
 ],
 "metadata": {
  "kernelspec": {
   "display_name": "Python 3 (ipykernel)",
   "language": "python",
   "name": "python3"
  },
  "language_info": {
   "codemirror_mode": {
    "name": "ipython",
    "version": 3
   },
   "file_extension": ".py",
   "mimetype": "text/x-python",
   "name": "python",
   "nbconvert_exporter": "python",
   "pygments_lexer": "ipython3",
   "version": "3.12.7"
  }
 },
 "nbformat": 4,
 "nbformat_minor": 5
}
